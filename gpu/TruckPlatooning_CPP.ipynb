{
  "nbformat": 4,
  "nbformat_minor": 0,
  "metadata": {
    "colab": {
      "provenance": [],
      "gpuType": "T4",
      "authorship_tag": "ABX9TyOaLyVVWOLGmLpFjjQn+Llg",
      "include_colab_link": true
    },
    "kernelspec": {
      "name": "python3",
      "display_name": "Python 3"
    },
    "language_info": {
      "name": "python"
    },
    "accelerator": "GPU"
  },
  "cells": [
    {
      "cell_type": "markdown",
      "metadata": {
        "id": "view-in-github",
        "colab_type": "text"
      },
      "source": [
        "<a href=\"https://colab.research.google.com/github/thisisquangphuc/fhdo-distributed-system/blob/issac/TruckPlatooning_CPP.ipynb\" target=\"_parent\"><img src=\"https://colab.research.google.com/assets/colab-badge.svg\" alt=\"Open In Colab\"/></a>"
      ]
    },
    {
      "cell_type": "code",
      "execution_count": null,
      "metadata": {
        "id": "_C-5DSLKIXPW"
      },
      "outputs": [],
      "source": [
        "#Install the NVIDIA CUDA Compile\n",
        "!apt-get update\n",
        "!apt-get install -y nvidia-cuda-toolkit\n"
      ]
    },
    {
      "cell_type": "code",
      "source": [
        "#This code implements GPU-accelerated distance calculations and CPU-based obstacle avoidance\n",
        "# It uses CUDA and C++ multithreading.\n",
        "\n",
        "\n",
        "#to save program in .cu file\n",
        "\n",
        "%%writefile truck_platooning.cu\n",
        "\n",
        "#include <iostream>\n",
        "#include <vector>\n",
        "#include <cmath>\n",
        "#include <thread>\n",
        "#include <mutex>\n",
        "#include <cuda_runtime.h>\n",
        "#include <iomanip> // For formatting distances\n",
        "\n",
        "// Constants\n",
        "const float DEFAULT_SAFETY_DISTANCE = 30.0; // Default safety distance\n",
        "const float AVOIDANCE_FACTOR = 1.5;         // Factor for avoidance adjustment\n",
        "const int NUM_THREADS = 2;                  // Number of threads\n",
        "const float BRAKING_DISTANCE = 15.0;        // Distance at which braking is applied\n",
        "\n",
        "// Function to calculate distances between trucks\n",
        "std::vector<std::vector<float>> calculate_truck_distances(const std::vector<std::vector<float>> &truck_positions) {\n",
        "    int num_trucks = truck_positions.size();\n",
        "    std::vector<std::vector<float>> distances(num_trucks, std::vector<float>(num_trucks, 0.0));\n",
        "\n",
        "    for (int i = 0; i < num_trucks; ++i) {\n",
        "        for (int j = i + 1; j < num_trucks; ++j) {\n",
        "            float dx = truck_positions[i][0] - truck_positions[j][0];\n",
        "            float dy = truck_positions[i][1] - truck_positions[j][1];\n",
        "            distances[i][j] = distances[j][i] = sqrtf(dx * dx + dy * dy);\n",
        "        }\n",
        "    }\n",
        "    return distances;\n",
        "}\n",
        "\n",
        "// Function for obstacle detection and avoidance\n",
        "void obstacle_detection_and_avoidance(std::vector<std::vector<float>> &truck_positions,\n",
        "                                      const std::vector<std::vector<float>> &obstacle_positions,\n",
        "                                      std::vector<std::vector<int>> &logical_clock,\n",
        "                                      int thread_id,\n",
        "                                      std::vector<std::string> &avoidance_methods) {\n",
        "    int num_trucks = truck_positions.size();\n",
        "\n",
        "    for (int i = 0; i < num_trucks; ++i) {\n",
        "        float min_distance = DEFAULT_SAFETY_DISTANCE + 1;\n",
        "        int closest_obstacle = -1;\n",
        "\n",
        "        // Find the closest obstacle\n",
        "        for (size_t j = 0; j < obstacle_positions.size(); ++j) {\n",
        "            float dx = truck_positions[i][0] - obstacle_positions[j][0];\n",
        "            float dy = truck_positions[i][1] - obstacle_positions[j][1];\n",
        "            float distance = sqrtf(dx * dx + dy * dy);\n",
        "\n",
        "            if (distance < min_distance) {\n",
        "                min_distance = distance;\n",
        "                closest_obstacle = j;\n",
        "            }\n",
        "        }\n",
        "\n",
        "        // If too close, apply braking or avoidance logic\n",
        "        if (min_distance < DEFAULT_SAFETY_DISTANCE && closest_obstacle != -1) {\n",
        "            if (min_distance < BRAKING_DISTANCE) {\n",
        "                // Apply braking: truck slows down\n",
        "                truck_positions[i][0] -= 2.0; // Simulating braking\n",
        "                truck_positions[i][1] -= 2.0;\n",
        "                avoidance_methods[i] = \"Braking\";\n",
        "            } else {\n",
        "                // Adjust position to avoid obstacle\n",
        "                truck_positions[i][0] += AVOIDANCE_FACTOR * (truck_positions[i][0] - obstacle_positions[closest_obstacle][0]);\n",
        "                truck_positions[i][1] += AVOIDANCE_FACTOR * (truck_positions[i][1] - obstacle_positions[closest_obstacle][1]);\n",
        "                avoidance_methods[i] = \"Avoidance Maneuver\";\n",
        "            }\n",
        "        } else {\n",
        "            avoidance_methods[i] = \"No Avoidance Needed\";\n",
        "        }\n",
        "\n",
        "        // Update logical clock\n",
        "        logical_clock[thread_id][thread_id]++;\n",
        "    }\n",
        "}\n",
        "\n",
        "// Main simulation\n",
        "int main() {\n",
        "    // Simulate 3 trucks in a platoon and 1 obstacle\n",
        "    std::vector<std::vector<float>> truck_positions = {{50.0, 50.0}, {60.0, 60.0}, {70.0, 70.0}};\n",
        "    std::vector<std::vector<float>> obstacle_positions = {{65.0, 65.0}};\n",
        "    std::vector<std::vector<int>> logical_clock(NUM_THREADS, std::vector<int>(NUM_THREADS, 0));\n",
        "\n",
        "    // Output initial positions\n",
        "    std::cout << \"Initial Truck Positions:\\n\";\n",
        "    for (const auto &pos : truck_positions) {\n",
        "        std::cout << pos[0] << \", \" << pos[1] << \"\\n\";\n",
        "    }\n",
        "\n",
        "    std::cout << \"\\nObstacle Position:\\n\";\n",
        "    for (const auto &pos : obstacle_positions) {\n",
        "        std::cout << pos[0] << \", \" << pos[1] << \"\\n\";\n",
        "    }\n",
        "\n",
        "    // Calculate and display initial distances between trucks\n",
        "    std::cout << \"\\nInitial Distances Between Trucks:\\n\";\n",
        "    auto truck_distances = calculate_truck_distances(truck_positions);\n",
        "    for (const auto &row : truck_distances) {\n",
        "        for (const auto &distance : row) {\n",
        "            std::cout << std::setw(8) << std::fixed << std::setprecision(2) << distance;\n",
        "        }\n",
        "        std::cout << \"\\n\";\n",
        "    }\n",
        "\n",
        "    // Multithreading for processing\n",
        "    std::vector<std::thread> threads;\n",
        "    std::mutex mutex;\n",
        "\n",
        "    int chunk_size = (truck_positions.size() + NUM_THREADS - 1) / NUM_THREADS; // Ensure proper chunking\n",
        "    std::vector<std::string> avoidance_methods(truck_positions.size(), \"\");\n",
        "\n",
        "    for (int t = 0; t < NUM_THREADS; ++t) {\n",
        "        int start_idx = t * chunk_size;\n",
        "        int end_idx = std::min(static_cast<int>(truck_positions.size()), start_idx + chunk_size);\n",
        "\n",
        "        threads.emplace_back([&, t, start_idx, end_idx]() {\n",
        "            std::vector<std::vector<float>> truck_chunk(truck_positions.begin() + start_idx, truck_positions.begin() + end_idx);\n",
        "            obstacle_detection_and_avoidance(truck_chunk, obstacle_positions, logical_clock, t, avoidance_methods);\n",
        "\n",
        "            std::lock_guard<std::mutex> lock(mutex);\n",
        "            std::copy(truck_chunk.begin(), truck_chunk.end(), truck_positions.begin() + start_idx);\n",
        "        });\n",
        "    }\n",
        "\n",
        "    for (auto &thread : threads) {\n",
        "        thread.join();\n",
        "    }\n",
        "\n",
        "    // Display avoidance methods\n",
        "    std::cout << \"\\nAvoidance Methods for Trucks:\\n\";\n",
        "    for (int i = 0; i < avoidance_methods.size(); ++i) {\n",
        "        std::cout << \"Truck \" << i + 1 << \": \" << avoidance_methods[i] << \"\\n\";\n",
        "    }\n",
        "\n",
        "    // Display final truck positions\n",
        "    std::cout << \"\\nFinal Truck Positions After Avoidance:\\n\";\n",
        "    for (const auto &pos : truck_positions) {\n",
        "        std::cout << pos[0] << \", \" << pos[1] << \"\\n\";\n",
        "    }\n",
        "\n",
        "    // Display updated logical clock matrix\n",
        "    std::cout << \"\\nLogical Clock Matrix:\\n\";\n",
        "    for (const auto &row : logical_clock) {\n",
        "        for (const auto &val : row) {\n",
        "            std::cout << std::setw(5) << val;\n",
        "        }\n",
        "        std::cout << \"\\n\";\n",
        "    }\n",
        "\n",
        "    return 0;\n",
        "}\n"
      ],
      "metadata": {
        "colab": {
          "base_uri": "https://localhost:8080/"
        },
        "id": "ikdskvNRJWqV",
        "outputId": "3cba15e5-3d61-41fd-defa-2fc530d5a1fc"
      },
      "execution_count": null,
      "outputs": [
        {
          "output_type": "stream",
          "name": "stdout",
          "text": [
            "Overwriting truck_platooning.cu\n"
          ]
        }
      ]
    },
    {
      "cell_type": "code",
      "source": [
        "# Compile the code using the NVIDIA compiler:\n",
        "\n",
        "!nvcc truck_platooning.cu -o truck_platooning\n"
      ],
      "metadata": {
        "id": "cjr8aZ3SLFfG"
      },
      "execution_count": null,
      "outputs": []
    },
    {
      "cell_type": "code",
      "source": [
        "#Run the compiled program\n",
        "\n",
        "!./truck_platooning\n"
      ],
      "metadata": {
        "colab": {
          "base_uri": "https://localhost:8080/"
        },
        "id": "YAGkdtl2LXVw",
        "outputId": "e0cf6db3-6587-4ac4-e31c-d90b3557f593"
      },
      "execution_count": null,
      "outputs": [
        {
          "output_type": "stream",
          "name": "stdout",
          "text": [
            "Updated Truck Positions (first 10):\n",
            "411.5, 929.5\n",
            "771, 898.5\n",
            "793, 335\n",
            "315.5, 477\n",
            "619, 442\n",
            "362, 27\n",
            "685.5, 92\n",
            "736, 926\n",
            "540, 426\n",
            "172, 736\n"
          ]
        }
      ]
    },
    {
      "cell_type": "code",
      "source": [],
      "metadata": {
        "id": "7gvoT3tHLrEB"
      },
      "execution_count": null,
      "outputs": []
    }
  ]
}