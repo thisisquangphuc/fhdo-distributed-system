{
  "nbformat": 4,
  "nbformat_minor": 0,
  "metadata": {
    "colab": {
      "provenance": []
    },
    "kernelspec": {
      "name": "python3",
      "display_name": "Python 3"
    },
    "language_info": {
      "name": "python"
    }
  },
  "cells": [
    {
      "cell_type": "code",
      "source": [
        "from google.colab import drive\n",
        "drive.mount('/content/drive')"
      ],
      "metadata": {
        "colab": {
          "base_uri": "https://localhost:8080/"
        },
        "id": "PCU6T8DpP_nM",
        "outputId": "dcd9de86-ac5b-4558-ccd2-1b2b127f9f9e"
      },
      "execution_count": null,
      "outputs": [
        {
          "output_type": "stream",
          "name": "stdout",
          "text": [
            "Drive already mounted at /content/drive; to attempt to forcibly remount, call drive.mount(\"/content/drive\", force_remount=True).\n"
          ]
        }
      ]
    },
    {
      "cell_type": "code",
      "execution_count": null,
      "metadata": {
        "id": "Uc2YEU3w-F9_",
        "colab": {
          "base_uri": "https://localhost:8080/"
        },
        "outputId": "549b2339-7f3f-4d63-e413-d7b4af274151"
      },
      "outputs": [
        {
          "output_type": "stream",
          "name": "stdout",
          "text": [
            "Fri Jan 24 16:15:50 2025       \n",
            "+---------------------------------------------------------------------------------------+\n",
            "| NVIDIA-SMI 535.104.05             Driver Version: 535.104.05   CUDA Version: 12.2     |\n",
            "|-----------------------------------------+----------------------+----------------------+\n",
            "| GPU  Name                 Persistence-M | Bus-Id        Disp.A | Volatile Uncorr. ECC |\n",
            "| Fan  Temp   Perf          Pwr:Usage/Cap |         Memory-Usage | GPU-Util  Compute M. |\n",
            "|                                         |                      |               MIG M. |\n",
            "|=========================================+======================+======================|\n",
            "|   0  Tesla T4                       Off | 00000000:00:04.0 Off |                    0 |\n",
            "| N/A   40C    P8               9W /  70W |      0MiB / 15360MiB |      0%      Default |\n",
            "|                                         |                      |                  N/A |\n",
            "+-----------------------------------------+----------------------+----------------------+\n",
            "                                                                                         \n",
            "+---------------------------------------------------------------------------------------+\n",
            "| Processes:                                                                            |\n",
            "|  GPU   GI   CI        PID   Type   Process name                            GPU Memory |\n",
            "|        ID   ID                                                             Usage      |\n",
            "|=======================================================================================|\n",
            "|  No running processes found                                                           |\n",
            "+---------------------------------------------------------------------------------------+\n"
          ]
        }
      ],
      "source": [
        "!nvidia-smi"
      ]
    },
    {
      "cell_type": "code",
      "source": [
        "!nvcc --version\n"
      ],
      "metadata": {
        "colab": {
          "base_uri": "https://localhost:8080/"
        },
        "id": "o4NRcBokpq85",
        "outputId": "4ab90b8d-ca44-4424-884e-fe6ba7ad93ff"
      },
      "execution_count": null,
      "outputs": [
        {
          "output_type": "stream",
          "name": "stdout",
          "text": [
            "nvcc: NVIDIA (R) Cuda compiler driver\n",
            "Copyright (c) 2005-2023 NVIDIA Corporation\n",
            "Built on Tue_Aug_15_22:02:13_PDT_2023\n",
            "Cuda compilation tools, release 12.2, V12.2.140\n",
            "Build cuda_12.2.r12.2/compiler.33191640_0\n"
          ]
        }
      ]
    },
    {
      "cell_type": "code",
      "source": [
        "!pip install git+https://github.com/andreinechaev/nvcc4jupyter.git"
      ],
      "metadata": {
        "colab": {
          "base_uri": "https://localhost:8080/"
        },
        "id": "xi8yJ-H_JmWQ",
        "outputId": "d6a038ff-08a4-4731-ed05-c9ea2bd64c79"
      },
      "execution_count": null,
      "outputs": [
        {
          "output_type": "stream",
          "name": "stdout",
          "text": [
            "Collecting git+https://github.com/andreinechaev/nvcc4jupyter.git\n",
            "  Cloning https://github.com/andreinechaev/nvcc4jupyter.git to /tmp/pip-req-build-b9l7yequ\n",
            "  Running command git clone --filter=blob:none --quiet https://github.com/andreinechaev/nvcc4jupyter.git /tmp/pip-req-build-b9l7yequ\n",
            "  Resolved https://github.com/andreinechaev/nvcc4jupyter.git to commit 28f872a2f99a1b201bcd0db14fdbc5a496b9bfd7\n",
            "  Installing build dependencies ... \u001b[?25l\u001b[?25hdone\n",
            "  Getting requirements to build wheel ... \u001b[?25l\u001b[?25hdone\n",
            "  Preparing metadata (pyproject.toml) ... \u001b[?25l\u001b[?25hdone\n",
            "Building wheels for collected packages: nvcc4jupyter\n",
            "  Building wheel for nvcc4jupyter (pyproject.toml) ... \u001b[?25l\u001b[?25hdone\n",
            "  Created wheel for nvcc4jupyter: filename=nvcc4jupyter-1.2.1-py3-none-any.whl size=10742 sha256=fdb30b442a03a2b978d94f242f4f3839c3b517111d4c5bcc31496f40b5aacbba\n",
            "  Stored in directory: /tmp/pip-ephem-wheel-cache-zpgbkc0b/wheels/ef/1d/c6/f7e47f1aa1bc9d05c4120d94f90a79cf28603ef343b0dd43ff\n",
            "Successfully built nvcc4jupyter\n",
            "Installing collected packages: nvcc4jupyter\n",
            "Successfully installed nvcc4jupyter-1.2.1\n"
          ]
        }
      ]
    },
    {
      "cell_type": "code",
      "source": [
        "%load_ext nvcc4jupyter"
      ],
      "metadata": {
        "colab": {
          "base_uri": "https://localhost:8080/"
        },
        "id": "eQXJdIMWJsXh",
        "outputId": "a9c6f25b-3b2a-4777-e835-4a500aff7f7b",
        "collapsed": true
      },
      "execution_count": null,
      "outputs": [
        {
          "output_type": "stream",
          "name": "stdout",
          "text": [
            "Detected platform \"Colab\". Running its setup...\n",
            "Source files will be saved in \"/tmp/tmpreh7t1et\".\n"
          ]
        }
      ]
    },
    {
      "cell_type": "code",
      "source": [
        "%%writefile concurrent.cu\n",
        "#include <cuda_runtime.h>\n",
        "#include <iostream>\n",
        "\n",
        "#define N 1\n",
        "const float alertThreshold = 30.0;  // Alert threshold in m\n",
        "const float brakingThreshold = 15.0; // Braking threshold in m\n",
        "__global__ void receiveData(float *data) {\n",
        "    int idx = blockIdx.x * blockDim.x + threadIdx.x;\n",
        "    data[idx]--;\n",
        "    printf(\"Distance: %f m\\n\", data[idx]);\n",
        "\n",
        "}\n",
        "\n",
        "__global__ void monitorDistance(float *data) {\n",
        "    int idx = blockIdx.x * blockDim.x + threadIdx.x;\n",
        "    if (data[idx] > alertThreshold) {\n",
        "        printf(\"Safe\\n\");\n",
        "    } else if ((data[idx] > brakingThreshold) & (data[idx] <= alertThreshold)){\n",
        "      printf(\"Obstacle detected with distance: %f m\\n\", data[idx]);\n",
        "    } else{\n",
        "      printf(\"Warning: Obstacle close with distance: %f m\\n\", data[idx]);\n",
        "    }\n",
        "}\n",
        "\n",
        "int main() {\n",
        "    float *d_data1; //*d_data2;\n",
        "    float *h_data = new float[N];\n",
        "\n",
        "    for (int i = 0; i < N; ++i) {\n",
        "        h_data[i] = 40;\n",
        "    }\n",
        "\n",
        "    cudaMalloc(&d_data1, N * sizeof(float));\n",
        "    //cudaMalloc(&d_data2, N * sizeof(float));\n",
        "\n",
        "    cudaStream_t stream1, stream2;\n",
        "    cudaStreamCreate(&stream1);\n",
        "    cudaStreamCreate(&stream2);\n",
        "\n",
        "    cudaMemcpyAsync(d_data1, h_data, N * sizeof(float), cudaMemcpyHostToDevice, stream1);\n",
        "    //cudaMemcpyAsync(d_data2, h_data, N * sizeof(float), cudaMemcpyHostToDevice, stream2);\n",
        "\n",
        "    int threadsPerBlock = 1;\n",
        "    int blocksPerGrid = 1;\n",
        "    for(int i=0; i<40; i++){\n",
        "      receiveData<<<blocksPerGrid, threadsPerBlock, 0, stream1>>>(d_data1);\n",
        "      monitorDistance<<<blocksPerGrid, threadsPerBlock, 0, stream2>>>(d_data1);\n",
        "\n",
        "    }\n",
        "\n",
        "\n",
        "    cudaMemcpyAsync(h_data, d_data1, N * sizeof(float), cudaMemcpyDeviceToHost, stream1);\n",
        "    //cudaMemcpyAsync(h_data, d_data2, N * sizeof(float), cudaMemcpyDeviceToHost, stream2);\n",
        "\n",
        "    cudaStreamSynchronize(stream1);\n",
        "    cudaStreamSynchronize(stream2);\n",
        "\n",
        "\n",
        "\n",
        "    cudaFree(d_data1);\n",
        "    //cudaFree(d_data2);\n",
        "    cudaStreamDestroy(stream1);\n",
        "    cudaStreamDestroy(stream2);\n",
        "    delete[] h_data;\n",
        "\n",
        "    return 0;\n",
        "}\n"
      ],
      "metadata": {
        "colab": {
          "base_uri": "https://localhost:8080/"
        },
        "id": "-ThwzoMr0BJH",
        "outputId": "9e375696-26f9-47c9-f6c0-c6c55e49d9bf"
      },
      "execution_count": null,
      "outputs": [
        {
          "output_type": "stream",
          "name": "stdout",
          "text": [
            "Overwriting concurrent.cu\n"
          ]
        }
      ]
    },
    {
      "cell_type": "code",
      "source": [
        "!nvcc --default-stream per-thread ./concurrent.cu -o concurrent\n",
        "!./concurrent"
      ],
      "metadata": {
        "colab": {
          "base_uri": "https://localhost:8080/"
        },
        "id": "sRS4GBDFmBvY",
        "outputId": "0142bfe5-9b91-404f-a062-6dd1e2ea1b47"
      },
      "execution_count": null,
      "outputs": [
        {
          "output_type": "stream",
          "name": "stdout",
          "text": [
            "Distance: 39.000000 m\n",
            "Safe\n",
            "Distance: 38.000000 m\n",
            "Safe\n",
            "Distance: 37.000000 m\n",
            "Safe\n",
            "Distance: 36.000000 m\n",
            "Safe\n",
            "Distance: 35.000000 m\n",
            "Safe\n",
            "Distance: 34.000000 m\n",
            "Safe\n",
            "Safe\n",
            "Distance: 33.000000 m\n",
            "Safe\n",
            "Distance: 32.000000 m\n",
            "Safe\n",
            "Distance: 31.000000 m\n",
            "Safe\n",
            "Distance: 30.000000 m\n",
            "Obstacle detected with distance: 30.000000 m\n",
            "Distance: 29.000000 m\n",
            "Obstacle detected with distance: 29.000000 m\n",
            "Distance: 28.000000 m\n",
            "Distance: 27.000000 m\n",
            "Obstacle detected with distance: 27.000000 m\n",
            "Distance: 26.000000 m\n",
            "Obstacle detected with distance: 26.000000 m\n",
            "Distance: 25.000000 m\n",
            "Obstacle detected with distance: 25.000000 m\n",
            "Distance: 24.000000 m\n",
            "Distance: 23.000000 m\n",
            "Obstacle detected with distance: 23.000000 m\n",
            "Distance: 22.000000 m\n",
            "Obstacle detected with distance: 22.000000 m\n",
            "Distance: 21.000000 m\n",
            "Obstacle detected with distance: 21.000000 m\n",
            "Distance: 20.000000 m\n",
            "Distance: 19.000000 m\n",
            "Obstacle detected with distance: 19.000000 m\n",
            "Distance: 18.000000 m\n",
            "Obstacle detected with distance: 18.000000 m\n",
            "Distance: 17.000000 m\n",
            "Obstacle detected with distance: 17.000000 m\n",
            "Distance: 16.000000 m\n",
            "Distance: 15.000000 m\n",
            "Warning: Obstacle close with distance: 15.000000 m\n",
            "Distance: 14.000000 m\n",
            "Warning: Obstacle close with distance: 14.000000 m\n",
            "Distance: 13.000000 m\n",
            "Distance: 12.000000 m\n",
            "Warning: Obstacle close with distance: 13.000000 m\n",
            "Distance: 11.000000 m\n",
            "Warning: Obstacle close with distance: 11.000000 m\n",
            "Distance: 10.000000 m\n",
            "Warning: Obstacle close with distance: 10.000000 m\n",
            "Distance: 9.000000 m\n",
            "Distance: 8.000000 m\n",
            "Warning: Obstacle close with distance: 8.000000 m\n",
            "Distance: 7.000000 m\n",
            "Warning: Obstacle close with distance: 7.000000 m\n",
            "Distance: 6.000000 m\n",
            "Distance: 5.000000 m\n",
            "Warning: Obstacle close with distance: 6.000000 m\n",
            "Distance: 4.000000 m\n",
            "Warning: Obstacle close with distance: 4.000000 m\n",
            "Distance: 3.000000 m\n",
            "Warning: Obstacle close with distance: 3.000000 m\n",
            "Distance: 2.000000 m\n",
            "Distance: 1.000000 m\n",
            "Warning: Obstacle close with distance: 1.000000 m\n",
            "Distance: 0.000000 m\n",
            "Warning: Obstacle close with distance: 0.000000 m\n",
            "Warning: Obstacle close with distance: 0.000000 m\n",
            "Warning: Obstacle close with distance: 0.000000 m\n",
            "Warning: Obstacle close with distance: 0.000000 m\n",
            "Warning: Obstacle close with distance: 0.000000 m\n",
            "Warning: Obstacle close with distance: 0.000000 m\n",
            "Warning: Obstacle close with distance: 0.000000 m\n",
            "Warning: Obstacle close with distance: 0.000000 m\n"
          ]
        }
      ]
    },
    {
      "cell_type": "code",
      "source": [
        "!nvprof ./concurrent"
      ],
      "metadata": {
        "colab": {
          "base_uri": "https://localhost:8080/"
        },
        "id": "eES7Xkt3GlPp",
        "outputId": "92393fa4-043e-4899-a7af-d70b12f82a29"
      },
      "execution_count": null,
      "outputs": [
        {
          "output_type": "stream",
          "name": "stdout",
          "text": [
            "==8037== NVPROF is profiling process 8037, command: ./concurrent\n",
            "Distance: 39.000000 m\n",
            "Safe\n",
            "Safe\n",
            "Distance: 38.000000 m\n",
            "Safe\n",
            "Distance: 37.000000 m\n",
            "Safe\n",
            "Distance: 36.000000 m\n",
            "Safe\n",
            "Distance: 35.000000 m\n",
            "Safe\n",
            "Distance: 34.000000 m\n",
            "Safe\n",
            "Safe\n",
            "Distance: 33.000000 m\n",
            "Safe\n",
            "Distance: 32.000000 m\n",
            "Safe\n",
            "Distance: 31.000000 m\n",
            "Safe\n",
            "Distance: 30.000000 m\n",
            "Obstacle detected with distance: 30.000000 m\n",
            "Distance: 29.000000 m\n",
            "Obstacle detected with distance: 29.000000 m\n",
            "Distance: 28.000000 m\n",
            "Distance: 27.000000 m\n",
            "Obstacle detected with distance: 27.000000 m\n",
            "Distance: 26.000000 m\n",
            "Obstacle detected with distance: 26.000000 m\n",
            "Distance: 25.000000 m\n",
            "Obstacle detected with distance: 25.000000 m\n",
            "Distance: 24.000000 m\n",
            "Distance: 23.000000 m\n",
            "Obstacle detected with distance: 23.000000 m\n",
            "Distance: 22.000000 m\n",
            "Obstacle detected with distance: 22.000000 m\n",
            "Distance: 21.000000 m\n",
            "Obstacle detected with distance: 21.000000 m\n",
            "Distance: 20.000000 m\n",
            "Distance: 19.000000 m\n",
            "Obstacle detected with distance: 19.000000 m\n",
            "Distance: 18.000000 m\n",
            "Obstacle detected with distance: 18.000000 m\n",
            "Distance: 17.000000 m\n",
            "Obstacle detected with distance: 17.000000 m\n",
            "Distance: 16.000000 m\n",
            "Distance: 15.000000 m\n",
            "Warning: Obstacle close with distance: 15.000000 m\n",
            "Distance: 14.000000 m\n",
            "Warning: Obstacle close with distance: 14.000000 m\n",
            "Distance: 13.000000 m\n",
            "Warning: Obstacle close with distance: 13.000000 m\n",
            "Distance: 12.000000 m\n",
            "Distance: 11.000000 m\n",
            "Warning: Obstacle close with distance: 11.000000 m\n",
            "Distance: 10.000000 m\n",
            "Warning: Obstacle close with distance: 10.000000 m\n",
            "Distance: 9.000000 m\n",
            "Distance: 8.000000 m\n",
            "Warning: Obstacle close with distance: 9.000000 m\n",
            "Distance: 7.000000 m\n",
            "Warning: Obstacle close with distance: 7.000000 m\n",
            "Distance: 6.000000 m\n",
            "Warning: Obstacle close with distance: 6.000000 m\n",
            "Distance: 5.000000 m\n",
            "Distance: 4.000000 m\n",
            "Warning: Obstacle close with distance: 4.000000 m\n",
            "Distance: 3.000000 m\n",
            "Warning: Obstacle close with distance: 3.000000 m\n",
            "Distance: 2.000000 m\n",
            "Distance: 1.000000 m\n",
            "Warning: Obstacle close with distance: 2.000000 m\n",
            "Distance: 0.000000 m\n",
            "Warning: Obstacle close with distance: 0.000000 m\n",
            "Warning: Obstacle close with distance: 0.000000 m\n",
            "Warning: Obstacle close with distance: 0.000000 m\n",
            "Warning: Obstacle close with distance: 0.000000 m\n",
            "Warning: Obstacle close with distance: 0.000000 m\n",
            "Warning: Obstacle close with distance: 0.000000 m\n",
            "Warning: Obstacle close with distance: 0.000000 m\n",
            "==8037== Profiling application: ./concurrent\n",
            "==8037== Profiling result:\n",
            "            Type  Time(%)      Time     Calls       Avg       Min       Max  Name\n",
            " GPU activities:   54.96%  3.2857ms        40  82.141us  55.776us  94.143us  monitorDistance(float*)\n",
            "                   44.99%  2.6893ms        40  67.233us  64.672us  74.687us  receiveData(float*)\n",
            "                    0.03%  2.0490us         1  2.0490us  2.0490us  2.0490us  [CUDA memcpy DtoH]\n",
            "                    0.02%  1.2160us         1  1.2160us  1.2160us  1.2160us  [CUDA memcpy HtoD]\n",
            "      API calls:   96.21%  162.23ms         1  162.23ms  162.23ms  162.23ms  cudaMalloc\n",
            "                    1.79%  3.0203ms        80  37.754us  3.4160us  2.6833ms  cudaLaunchKernel\n",
            "                    1.42%  2.3977ms         2  1.1989ms  12.997us  2.3847ms  cudaMemcpyAsync\n",
            "                    0.37%  623.09us         2  311.55us  282.15us  340.95us  cudaStreamSynchronize\n",
            "                    0.09%  146.23us       114  1.2820us     166ns  61.465us  cuDeviceGetAttribute\n",
            "                    0.08%  131.62us         1  131.62us  131.62us  131.62us  cudaFree\n",
            "                    0.02%  37.898us         2  18.949us  2.3150us  35.583us  cudaStreamCreate\n",
            "                    0.01%  11.914us         1  11.914us  11.914us  11.914us  cuDeviceGetName\n",
            "                    0.01%  10.396us         2  5.1980us  2.3550us  8.0410us  cudaStreamDestroy\n",
            "                    0.00%  5.5210us         1  5.5210us  5.5210us  5.5210us  cuDeviceGetPCIBusId\n",
            "                    0.00%  4.7210us         1  4.7210us  4.7210us  4.7210us  cuDeviceTotalMem\n",
            "                    0.00%  1.6580us         3     552ns     265ns     985ns  cuDeviceGetCount\n",
            "                    0.00%  1.1170us         2     558ns     307ns     810ns  cuDeviceGet\n",
            "                    0.00%     457ns         1     457ns     457ns     457ns  cuModuleGetLoadingMode\n",
            "                    0.00%     285ns         1     285ns     285ns     285ns  cuDeviceGetUuid\n"
          ]
        }
      ]
    },
    {
      "cell_type": "code",
      "source": [
        "!nvcc -Xcompiler=\"-fopenmp\" -arch=sm_75 -o DPS DPS.cu\n",
        "!OMP_NUM_THREADS=4\n",
        "!./DPS"
      ],
      "metadata": {
        "colab": {
          "base_uri": "https://localhost:8080/"
        },
        "id": "K4m7xK-Iru2W",
        "outputId": "3255d131-ce19-453b-ce8f-0934cee4bbfb"
      },
      "execution_count": null,
      "outputs": [
        {
          "output_type": "stream",
          "name": "stdout",
          "text": [
            "\u001b[01m\u001b[Kcc1plus:\u001b[m\u001b[K \u001b[01;31m\u001b[Kfatal error: \u001b[m\u001b[KDPS.cu: No such file or directory\n",
            "compilation terminated.\n",
            "/bin/bash: line 1: ./DPS: No such file or directory\n"
          ]
        }
      ]
    },
    {
      "cell_type": "code",
      "source": [
        "!nvcc concurrent_tasks.cu -o concurrent_tasks\n",
        "!./concurrent_tasks"
      ],
      "metadata": {
        "colab": {
          "base_uri": "https://localhost:8080/"
        },
        "id": "qEYJ2aUlIcsx",
        "outputId": "631b4dea-5f70-455d-ba7b-47efe2a37a83",
        "collapsed": true
      },
      "execution_count": null,
      "outputs": [
        {
          "output_type": "stream",
          "name": "stdout",
          "text": [
            "Distance is: 0\n",
            "Distance is: 1\n",
            "Distance is: 2\n",
            "Distance is: 3\n",
            "Distance is: 4\n",
            "Distance is: 5\n",
            "Distance is: 6\n",
            "Distance is: 7\n",
            "Distance is: 8\n",
            "Distance is: 9\n",
            "Distance is: 10\n",
            "Distance is: 11\n",
            "Distance is: 12\n",
            "Distance is: 13\n",
            "Distance is: 14\n",
            "Distance is: 15\n",
            "Distance is: 16\n",
            "Distance is: 17\n",
            "Distance is: 18\n",
            "Distance is: 19\n",
            "Distance is: 20\n",
            "Distance is: 21\n",
            "Distance is: 22\n",
            "Distance is: 23\n",
            "Distance is: 24\n",
            "Distance is: 25\n",
            "Distance is: 26\n",
            "Distance is: 27\n",
            "Distance is: 28\n",
            "Distance is: 29\n",
            "Distance is: 30\n",
            "Distance is: 31\n",
            "Distance is: 32\n",
            "Distance is: 33\n",
            "Distance is: 34\n",
            "Distance is: 35\n",
            "Distance is: 36\n",
            "Distance is: 37\n",
            "Distance is: 38\n",
            "Distance is: 39\n",
            "Distance is: 40\n",
            "Distance is: 41\n",
            "Distance is: 42\n",
            "Distance is: 43\n",
            "Distance is: 44\n",
            "Distance is: 45\n",
            "Distance is: 46\n",
            "Distance is: 47\n",
            "Distance is: 48\n",
            "Distance is: 49\n",
            "Distance is: 50\n",
            "Distance is: 51\n",
            "Distance is: 52\n",
            "Distance is: 53\n",
            "Distance is: 54\n",
            "Distance is: 55\n",
            "Distance is: 56\n",
            "Distance is: 57\n",
            "Distance is: 58\n",
            "Distance is: 59\n",
            "Distance is: 60\n",
            "Distance is: 61\n",
            "Distance is: 62\n",
            "Distance is: 63\n",
            "Distance is: 64\n",
            "Distance is: 65\n",
            "Distance is: 66\n",
            "Distance is: 67\n",
            "Distance is: 68\n",
            "Distance is: 69\n",
            "Distance is: 70\n",
            "Distance is: 71\n",
            "Distance is: 72\n",
            "Distance is: 73\n",
            "Distance is: 74\n",
            "Distance is: 75\n",
            "Distance is: 76\n",
            "Distance is: 77\n",
            "Distance is: 78\n",
            "Distance is: 79\n",
            "Distance is: 80\n",
            "Distance is: 81\n",
            "Distance is: 82\n",
            "Distance is: 83\n",
            "Distance is: 84\n",
            "Distance is: 85\n",
            "Distance is: 86\n",
            "Distance is: 87\n",
            "Distance is: 88\n",
            "Distance is: 89\n",
            "Distance is: 90\n",
            "Distance is: 91\n",
            "Distance is: 92\n",
            "Distance is: 93\n",
            "Distance is: 94\n",
            "Distance is: 95\n",
            "Distance is: 96\n",
            "Distance is: 97\n",
            "Distance is: 98\n",
            "Distance is: 99\n",
            "TestTestTestTestTestTestTestTestTestTestTestTestTestTestTestTestTestTestTestTestTestTestTestTestTestTestTestTestTestTestTestTestTestTestTestTestTestTestTestTestTestTestTestTestTestTestTestTestTestTestTestTestTestTestTestTestTestTestTestTestTestTestTestTestTestTestTestTestTestTestTestTestTestTestTestTestTestTestTestTestTestTestTestTestTestTestTestTestTestTestTestTestTestTestTestTestTestTestTestTest"
          ]
        }
      ]
    }
  ]
}